{
 "cells": [
  {
   "cell_type": "code",
   "execution_count": 1,
   "metadata": {},
   "outputs": [],
   "source": [
    "from skimage.color import rgb2gray\n",
    "import matplotlib.pyplot as plt\n",
    "import cv2\n",
    "import time\n",
    "X_train=[]\n",
    "Y_train=[]"
   ]
  },
  {
   "cell_type": "code",
   "execution_count": 2,
   "metadata": {},
   "outputs": [],
   "source": [
    "from sklearn.decomposition import PCA\n",
    "import numpy as np\n",
    "with open('natural_training.txt', 'r') as file:\n",
    "    lines = file.readlines()\n",
    "    for line in lines:\n",
    "        image=plt.imread(line.rstrip('\\n'))\n",
    "        image=cv2.resize(image,dsize=[512,512],fx=None,fy=None,interpolation=cv2.INTER_AREA)\n",
    "    #     image=rgb2gray(image)\n",
    "    #     if(image.dtype!=np.uint8):\n",
    "    #             normalized_image = (image - np.min(image)) / (np.max(image) - np.min(image))\n",
    "    #             image = (normalized_image * 255).astype(np.uint8)\n",
    "        sift=cv2.SIFT_create()\n",
    "        keyPoint,descriptors=sift.detectAndCompute(image,None)\n",
    "        pca=PCA(n_components=1)\n",
    "        principal_component=pca.fit_transform(np.transpose(descriptors))\n",
    "        X_train.append(principal_component.reshape(len(principal_component),))\n",
    "        Y_train.append(1)"
   ]
  },
  {
   "cell_type": "code",
   "execution_count": 6,
   "metadata": {},
   "outputs": [],
   "source": [
    "with open('manmade_training.txt', 'r') as file:\n",
    "    lines = file.readlines()\n",
    "    for line in lines:\n",
    "        image=plt.imread(line.rstrip('\\n'))\n",
    "        image=cv2.resize(image,dsize=[512,512],fx=None,fy=None,interpolation=cv2.INTER_AREA)\n",
    "        # image=rgb2gray(image)\n",
    "        if(image.dtype!=np.uint8):\n",
    "            normalized_image = (image - np.min(image)) / (np.max(image) - np.min(image))\n",
    "            image = (normalized_image * 255).astype(np.uint8)\n",
    "        sift=cv2.SIFT_create()\n",
    "        keyPoint,descriptors=sift.detectAndCompute(image,None)\n",
    "        pca=PCA(n_components=1)\n",
    "        principal_component=pca.fit_transform(np.transpose(descriptors))\n",
    "        X_train.append(principal_component.reshape(len(principal_component),))\n",
    "        Y_train.append(0)\n",
    "    "
   ]
  },
  {
   "cell_type": "code",
   "execution_count": 8,
   "metadata": {},
   "outputs": [],
   "source": [
    "X_test=[]\n",
    "Y_test=[]"
   ]
  },
  {
   "cell_type": "code",
   "execution_count": 9,
   "metadata": {},
   "outputs": [],
   "source": [
    "with open('natural_test.txt', 'r') as file:\n",
    "    lines = file.readlines()\n",
    "    for line in lines:\n",
    "        image=plt.imread(line.rstrip('\\n'))\n",
    "        image=cv2.resize(image,dsize=[512,512],fx=None,fy=None,interpolation=cv2.INTER_AREA)\n",
    "        image=rgb2gray(image)\n",
    "        if(image.dtype!=np.uint8):\n",
    "            normalized_image = (image - np.min(image)) / (np.max(image) - np.min(image))\n",
    "            image = (normalized_image * 255).astype(np.uint8)\n",
    "        sift=cv2.SIFT_create()\n",
    "        keyPoint,descriptors=sift.detectAndCompute(image,None)\n",
    "        pca=PCA(n_components=1)\n",
    "        principal_component=pca.fit_transform(np.transpose(descriptors))\n",
    "        X_test.append(principal_component.reshape(len(principal_component),))\n",
    "        Y_test.append(1)\n",
    "    "
   ]
  },
  {
   "cell_type": "code",
   "execution_count": 10,
   "metadata": {},
   "outputs": [],
   "source": [
    "with open('manmade_test.txt', 'r') as file:\n",
    "    lines = file.readlines()\n",
    "    for line in lines:\n",
    "        image=plt.imread(line.rstrip('\\n'))\n",
    "        image=cv2.resize(image,dsize=[512,512],fx=None,fy=None,interpolation=cv2.INTER_AREA)\n",
    "        image=rgb2gray(image)\n",
    "        if(image.dtype!=np.uint8):\n",
    "            normalized_image = (image - np.min(image)) / (np.max(image) - np.min(image))\n",
    "            image = (normalized_image * 255).astype(np.uint8)\n",
    "        sift=cv2.SIFT_create()\n",
    "        keyPoint,descriptors=sift.detectAndCompute(image,None)\n",
    "        pca=PCA(n_components=1)\n",
    "        principal_component=pca.fit_transform(np.transpose(descriptors))\n",
    "        X_test.append(principal_component.reshape(len(principal_component),))\n",
    "        Y_test.append(0)"
   ]
  },
  {
   "cell_type": "code",
   "execution_count": 12,
   "metadata": {},
   "outputs": [],
   "source": [
    "X_train=np.array(X_train)\n",
    "Y_train=np.array(Y_train)\n",
    "X_test=np.array(X_test)\n",
    "Y_test=np.array(Y_test)\n"
   ]
  },
  {
   "cell_type": "code",
   "execution_count": 16,
   "metadata": {},
   "outputs": [
    {
     "data": {
      "text/plain": [
       "KNeighborsClassifier(n_neighbors=9)"
      ]
     },
     "execution_count": 16,
     "metadata": {},
     "output_type": "execute_result"
    }
   ],
   "source": [
    "from sklearn.neighbors import KNeighborsClassifier\n",
    "from sklearn.metrics import accuracy_score,confusion_matrix\n",
    "start_time1 = time.time()\n",
    "knn_classifier = KNeighborsClassifier(n_neighbors=5)\n",
    "knn_classifier.fit(X_train, Y_train)\n"
   ]
  },
  {
   "cell_type": "code",
   "execution_count": 39,
   "metadata": {},
   "outputs": [
    {
     "name": "stdout",
     "output_type": "stream",
     "text": [
      "Computation time: 3.249699831008911 seconds\n",
      "Accuracy: 0.876\n",
      "true negative: 226\n",
      "misclassification rates for manmade 0.096\n",
      "misclassification rates for nature: 0.152\n",
      "true positive: 212\n",
      "[0 1 1 1 1 1 1 1 1 1 1 1 1 1 1 1 1 1 1 1 1 1 0 1 0 1 1 1 1 1 1 1 1 1 1 1 0\n",
      " 1 1 1 1 1 1 1 1 1 1 1 1 1 1 1 1 1 1 1 1 0 1 1 1 0 1 1 0 1 1 1 0 1 0 1 1 1\n",
      " 1 1 1 1 1 1 1 1 1 1 0 0 1 0 1 1 1 1 1 1 1 1 1 1 0 1 1 1 1 1 1 1 0 1 1 1 1\n",
      " 1 1 1 1 1 1 1 1 1 1 1 1 0 0 1 0 1 1 1 1 0 1 1 1 1 1 1 1 1 1 1 0 1 1 1 1 1\n",
      " 1 1 1 1 1 1 1 1 0 1 0 1 1 1 0 1 1 1 1 1 1 1 1 1 1 1 0 1 1 1 1 1 1 1 1 1 1\n",
      " 1 1 0 0 0 1 1 0 0 1 1 1 1 1 1 1 1 1 1 1 0 0 1 1 0 1 1 1 1 1 1 1 0 1 1 1 1\n",
      " 1 0 0 1 1 1 1 0 1 1 1 1 1 1 0 1 1 1 0 1 1 1 0 1 1 1 1 1 0 0 0 0 0 0 0 0 0\n",
      " 0 0 1 0 0 1 1 0 0 0 0 0 0 0 0 0 0 0 0 0 0 0 0 0 0 0 0 0 0 0 0 0 0 0 0 0 0\n",
      " 1 0 0 0 0 0 0 0 0 0 0 1 0 0 0 0 0 0 1 0 0 0 0 0 0 0 0 0 1 0 0 0 1 0 0 0 0\n",
      " 0 0 0 0 0 0 1 0 0 0 0 0 0 1 0 1 0 0 0 1 0 0 0 0 0 0 1 0 0 0 0 0 1 0 0 0 0\n",
      " 0 0 0 0 0 0 1 0 0 0 0 0 0 0 0 0 0 0 0 0 0 0 0 1 0 0 0 0 0 0 0 0 0 0 0 0 0\n",
      " 0 0 0 0 0 0 0 0 0 0 0 1 0 0 0 1 1 0 1 0 0 0 0 0 0 1 0 0 0 0 0 0 0 0 0 0 0\n",
      " 0 0 0 0 0 0 0 0 0 0 0 0 0 0 1 0 0 1 0 0 0 1 0 0 0 0 0 0 0 0 0 0 0 0 0 0 0\n",
      " 0 0 0 0 0 0 0 0 0 0 0 0 0 0 0 0 0 0 0]\n"
     ]
    }
   ],
   "source": [
    "Y_pred = knn_classifier.predict(X_test)\n",
    "accuracy = accuracy_score(Y_test, Y_pred)\n",
    "end_time1 = time.time()\n",
    "elapsed_time1 = end_time1 - start_time1\n",
    "\n",
    "print(f\"Computation time: {elapsed_time1} seconds\")\n",
    "print(\"Accuracy:\", accuracy)\n",
    "\n",
    "tn, fp, fn, tp = confusion_matrix(Y_test, Y_pred).ravel()\n",
    "print(\"true negative:\", tn)\n",
    "print(\"misclassification rates for manmade\", fp/250)\n",
    "print(\"misclassification rates for nature:\", fn/250)\n",
    "print(\"true positive:\", tp)\n",
    "print(Y_pred)"
   ]
  },
  {
   "cell_type": "code",
   "execution_count": 17,
   "metadata": {},
   "outputs": [
    {
     "data": {
      "text/plain": [
       "SVC()"
      ]
     },
     "execution_count": 17,
     "metadata": {},
     "output_type": "execute_result"
    }
   ],
   "source": [
    "from sklearn import svm\n",
    "start_time2 = time.time()\n",
    "model=svm.SVC()\n",
    "model.fit(X_train,Y_train)"
   ]
  },
  {
   "cell_type": "code",
   "execution_count": 35,
   "metadata": {},
   "outputs": [
    {
     "name": "stdout",
     "output_type": "stream",
     "text": [
      "Accuracy: 0.934\n",
      "Computation time: 1.5670435428619385 seconds\n",
      "true negative: 232\n",
      "misclassification rates for manmade 0.072\n",
      "misclassification rates for nature: 0.06\n",
      "true positive: 235\n",
      "[1 1 1 1 1 1 1 1 1 1 1 1 1 1 1 1 1 1 1 1 1 1 1 1 0 1 1 1 1 1 1 1 1 1 1 1 1\n",
      " 1 1 1 1 1 1 1 1 1 1 1 1 1 1 1 1 1 1 1 1 1 1 1 1 1 1 1 0 1 1 1 1 1 0 1 1 1\n",
      " 1 1 1 1 1 1 1 1 1 1 0 1 1 0 1 1 1 1 1 0 1 1 1 1 1 1 0 1 1 1 1 1 1 1 1 1 1\n",
      " 1 1 1 1 1 1 1 1 1 1 1 1 1 0 1 1 1 1 1 1 1 1 1 1 1 1 1 1 1 1 1 0 1 1 1 1 1\n",
      " 1 1 1 1 1 1 1 1 1 1 0 1 1 1 1 1 1 0 1 1 1 1 1 1 1 1 1 1 1 1 1 1 1 1 1 1 1\n",
      " 1 1 1 1 1 1 1 0 0 1 1 1 1 1 1 1 1 1 1 1 1 1 1 1 1 1 1 1 1 1 1 1 1 1 1 1 1\n",
      " 1 1 0 1 1 1 1 1 1 1 1 1 1 1 1 1 1 1 0 1 1 1 1 1 1 1 1 1 0 0 0 0 0 1 0 0 0\n",
      " 0 0 0 0 0 1 1 0 0 0 0 0 0 0 0 0 0 0 0 0 0 0 0 0 0 0 0 0 0 0 0 0 0 0 0 0 0\n",
      " 1 0 0 0 0 0 0 0 0 0 0 1 0 0 0 0 0 0 0 0 0 0 0 0 0 0 0 0 1 0 0 0 0 1 0 0 0\n",
      " 0 0 0 0 0 0 1 0 0 0 0 0 0 0 0 1 0 0 0 0 0 0 0 0 0 0 1 0 0 1 0 1 0 0 0 0 0\n",
      " 0 0 0 0 0 0 1 0 0 0 0 0 0 0 0 0 0 0 0 0 0 0 0 0 0 0 0 0 0 0 0 0 0 0 0 0 0\n",
      " 0 0 0 0 0 0 0 0 0 0 0 0 0 0 1 1 0 0 0 0 0 0 0 0 0 0 0 0 0 0 0 0 0 0 1 0 0\n",
      " 0 0 0 0 0 0 0 0 0 0 0 0 0 0 0 0 0 1 0 0 0 0 0 0 0 0 0 0 0 0 1 0 0 0 0 0 0\n",
      " 0 0 0 0 0 0 0 0 0 0 0 0 0 0 0 0 0 0 0]\n"
     ]
    }
   ],
   "source": [
    "Y_pred=model.predict(X_test)\n",
    "accuracy = accuracy_score(Y_test, Y_pred)\n",
    "end_time2 = time.time()\n",
    "elapsed_time2 = end_time2 - start_time2\n",
    "print(\"Accuracy:\", accuracy)\n",
    "print(f\"Computation time: {elapsed_time2} seconds\")\n",
    "tn, fp, fn, tp = confusion_matrix(Y_test, Y_pred).ravel()\n",
    "print(\"true negative:\", tn)\n",
    "print(\"misclassification rates for manmade\", fp/250)\n",
    "print(\"misclassification rates for nature:\", fn/250)\n",
    "print(\"true positive:\", tp)\n",
    "print(Y_pred)"
   ]
  },
  {
   "cell_type": "markdown",
   "metadata": {},
   "source": [
    "Competition"
   ]
  },
  {
   "cell_type": "code",
   "execution_count": 23,
   "metadata": {},
   "outputs": [],
   "source": [
    "X_test=[]"
   ]
  },
  {
   "cell_type": "code",
   "execution_count": 24,
   "metadata": {},
   "outputs": [],
   "source": [
    "text1='competition/Images/'\n",
    "with open('competition/images.txt', 'r') as file:\n",
    "    lines = file.readlines()\n",
    "    for line in lines:\n",
    "        image=plt.imread(text1+line.rstrip('\\n'))\n",
    "        image=cv2.resize(image,dsize=[512,512],fx=None,fy=None,interpolation=cv2.INTER_AREA)\n",
    "        image=rgb2gray(image)\n",
    "        if(image.dtype!=np.uint8):\n",
    "            normalized_image = (image - np.min(image)) / (np.max(image) - np.min(image))\n",
    "            image = (normalized_image * 255).astype(np.uint8)\n",
    "        sift=cv2.SIFT_create()\n",
    "        keyPoint,descriptors=sift.detectAndCompute(image,None)\n",
    "        pca=PCA(n_components=1)\n",
    "        principal_component=pca.fit_transform(np.transpose(descriptors))\n",
    "        X_test.append(principal_component.reshape(len(principal_component),))"
   ]
  },
  {
   "cell_type": "code",
   "execution_count": 25,
   "metadata": {},
   "outputs": [
    {
     "data": {
      "text/plain": [
       "500"
      ]
     },
     "execution_count": 25,
     "metadata": {},
     "output_type": "execute_result"
    }
   ],
   "source": [
    "len(X_test)"
   ]
  },
  {
   "cell_type": "code",
   "execution_count": 26,
   "metadata": {},
   "outputs": [],
   "source": [
    "Y_pred_competition=model.predict(X_test)"
   ]
  },
  {
   "cell_type": "code",
   "execution_count": 28,
   "metadata": {},
   "outputs": [
    {
     "name": "stdout",
     "output_type": "stream",
     "text": [
      "[0 0 0 1 1 0 1 1 1 0 1 0 1 0 0 1 1 0 1 1 1 1 1 0 0 1 0 0 0 0 0 1 1 1 1 1 1\n",
      " 1 1 0 0 1 1 1 1 0 1 1 1 1 1 0 0 0 0 0 0 1 0 0 0 0 1 0 1 0 0 0 0 1 0 0 1 1\n",
      " 0 0 1 0 0 1 1 0 1 0 0 1 0 0 0 1 1 1 0 0 0 1 1 1 1 1 0 0 1 0 0 0 1 0 0 0 1\n",
      " 1 1 1 0 1 1 1 0 1 1 0 0 0 1 1 1 0 0 1 0 0 1 0 1 0 1 1 1 0 1 0 1 1 0 0 0 1\n",
      " 0 1 0 1 0 1 0 1 0 1 1 1 0 0 1 0 0 1 0 1 1 0 1 1 0 1 0 0 1 1 0 1 0 1 0 1 1\n",
      " 1 1 1 0 0 1 1 0 1 0 1 1 1 0 0 1 1 0 1 0 1 1 1 1 0 0 0 1 1 1 0 0 0 0 1 0 0\n",
      " 0 1 0 1 1 0 0 1 0 1 1 0 1 1 1 0 1 1 0 1 1 1 1 0 1 1 0 1 0 0 1 1 1 0 0 1 0\n",
      " 0 0 0 0 0 1 0 0 0 1 0 0 1 0 0 0 1 0 0 1 1 1 1 0 1 1 0 0 0 0 0 1 1 1 1 0 1\n",
      " 0 1 1 1 0 0 0 0 0 0 0 0 1 1 1 0 1 1 0 1 1 0 1 0 1 1 0 0 1 1 1 0 0 1 1 1 0\n",
      " 0 1 0 1 0 0 1 1 0 0 1 1 1 0 0 1 1 1 0 1 1 0 1 1 1 0 1 1 1 0 1 0 1 1 0 1 1\n",
      " 0 0 1 1 1 0 1 0 0 0 0 0 1 1 1 1 1 1 1 1 1 1 0 0 1 1 1 0 1 1 0 0 1 1 0 1 0\n",
      " 0 1 0 0 1 1 0 1 1 1 1 0 0 0 1 1 1 1 0 1 0 1 1 1 1 1 1 1 1 1 1 0 1 1 0 1 1\n",
      " 0 1 1 1 1 0 1 1 1 0 0 1 0 0 0 0 1 0 1 1 1 0 0 0 0 1 1 0 0 0 0 1 1 1 1 1 0\n",
      " 0 0 0 1 1 0 0 0 0 1 0 0 0 0 1 0 1 1 0]\n"
     ]
    }
   ],
   "source": [
    "print(Y_pred_competition)"
   ]
  },
  {
   "cell_type": "code",
   "execution_count": 30,
   "metadata": {},
   "outputs": [],
   "source": [
    "import pandas as pd\n",
    "data = pd.read_csv('competition/Images.csv')\n",
    "# y=data[['label']]\n",
    "# for i in range(0,len(y)):\n",
    "#     if Y_pred_competition[i]==0:\n",
    "#         y[i]='manmade'\n",
    "#     else"
   ]
  },
  {
   "cell_type": "code",
   "execution_count": 38,
   "metadata": {},
   "outputs": [],
   "source": [
    "y=[]\n",
    "for i in range(0,len(Y_pred_competition)):\n",
    "    if Y_pred_competition[i]==0:\n",
    "        y.append('manmade')\n",
    "    else:\n",
    "        y.append('natural')"
   ]
  },
  {
   "cell_type": "code",
   "execution_count": 39,
   "metadata": {},
   "outputs": [
    {
     "data": {
      "text/plain": [
       "500"
      ]
     },
     "execution_count": 39,
     "metadata": {},
     "output_type": "execute_result"
    }
   ],
   "source": [
    "len(y)"
   ]
  },
  {
   "cell_type": "code",
   "execution_count": 44,
   "metadata": {},
   "outputs": [
    {
     "name": "stderr",
     "output_type": "stream",
     "text": [
      "C:\\Windows\\Temp\\ipykernel_16896\\1502012043.py:2: SettingWithCopyWarning: \n",
      "A value is trying to be set on a copy of a slice from a DataFrame\n",
      "\n",
      "See the caveats in the documentation: https://pandas.pydata.org/pandas-docs/stable/user_guide/indexing.html#returning-a-view-versus-a-copy\n",
      "  data['label'][i]=y[i]\n"
     ]
    }
   ],
   "source": [
    "for i in range(0,len(Y_pred_competition)):\n",
    "    data['label'][i]=y[i]"
   ]
  },
  {
   "cell_type": "code",
   "execution_count": 46,
   "metadata": {},
   "outputs": [],
   "source": [
    "data.to_csv(\"Group2_competition.csv\",index=0)"
   ]
  }
 ],
 "metadata": {
  "kernelspec": {
   "display_name": "base",
   "language": "python",
   "name": "python3"
  },
  "language_info": {
   "codemirror_mode": {
    "name": "ipython",
    "version": 3
   },
   "file_extension": ".py",
   "mimetype": "text/x-python",
   "name": "python",
   "nbconvert_exporter": "python",
   "pygments_lexer": "ipython3",
   "version": "3.9.12"
  }
 },
 "nbformat": 4,
 "nbformat_minor": 2
}
